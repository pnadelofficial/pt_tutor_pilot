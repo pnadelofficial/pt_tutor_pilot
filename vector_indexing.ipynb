{
 "cells": [
  {
   "cell_type": "code",
   "execution_count": 15,
   "metadata": {},
   "outputs": [],
   "source": [
    "from langchain.embeddings import HuggingFaceBgeEmbeddings\n",
    "\n",
    "model_norm = HuggingFaceBgeEmbeddings(\n",
    "    model_name=\"BAAI/bge-large-en\",\n",
    "    encode_kwargs={'normalize_embeddings': True}\n",
    ")"
   ]
  },
  {
   "cell_type": "code",
   "execution_count": 6,
   "metadata": {},
   "outputs": [
    {
     "data": {
      "text/plain": [
       "['.chroma',\n",
       " '.DS_Store',\n",
       " '6.3 Effects of Age and Disuse on Skeletal Muscle.pdf',\n",
       " '6.9 Precautions and Contraindications for Resistance Exercise.pdf',\n",
       " '6.4 Framework for Resistance Training.pdf',\n",
       " 'd_db',\n",
       " '6.1 Principles of Resistance Exercise.pdf',\n",
       " '6.7 Case Application of Oddvar-Holten Method.pdf',\n",
       " '6.5 Velocity and Mode Resistsance Training Parameters.pdf',\n",
       " '6.6 Volume and Intensity of Resistance Exercise.pdf',\n",
       " '6.2 Muscle Adaptations to Resistance Exercise.pdf',\n",
       " 'p_db',\n",
       " '~',\n",
       " '6.8 Order and Frequency of Resistance Exercise.pdf']"
      ]
     },
     "execution_count": 6,
     "metadata": {},
     "output_type": "execute_result"
    }
   ],
   "source": [
    "from langchain.text_splitter import CharacterTextSplitter\n",
    "from langchain.vectorstores import FAISS\n",
    "from langchain.document_loaders import PyPDFLoader\n",
    "import os\n",
    "\n",
    "base_path = '../../Library/CloudStorage/Box-Box/DISC_AI Project/Transripts Pilot'\n",
    "os.listdir(base_path)"
   ]
  },
  {
   "cell_type": "code",
   "execution_count": 7,
   "metadata": {},
   "outputs": [],
   "source": [
    "import glob\n",
    "\n",
    "pdfs = glob.glob(f'{base_path}/*.pdf')\n",
    "pages = []\n",
    "for pdf in pdfs:\n",
    "    loader = PyPDFLoader(pdf)\n",
    "    pages += loader.load_and_split()"
   ]
  },
  {
   "cell_type": "code",
   "execution_count": 16,
   "metadata": {},
   "outputs": [],
   "source": [
    "db = FAISS.from_documents(pages, model_norm)"
   ]
  },
  {
   "cell_type": "code",
   "execution_count": 17,
   "metadata": {},
   "outputs": [
    {
     "data": {
      "text/plain": [
       "[Document(page_content=\"mechanically. 00:01:24[BLANK_AUDIO] 00:01:29Now, since we have established what the definition is, I would like to say before we do anything else that resists training within the literature is heavily, heavily covered. 00:01:40As a matter of fact, it is so ubiquitous that it's hardly worth mentioning the fact that, yes, there is literature supporting resistance training. 00:01:50As a matter of fact, when I did a very quick search term for resistance training and rehabilitation, I had almost 44,000 hits. 00:01:59So again, when we go through the material associated with resistance training, it's assuming that we all understand that resistance training does have therapeutic benefits. 00:02:12[BLANK_AUDIO] 00:02:14Okay, so let's talk about some of the elements of muscle performance, and they are strength, endurance, and power. 00:02:20The strength of a muscle is the ability of contractile tissue to produce tension and resultant force based on the demands placed on the muscle. 00:02:30So when we say strength training for muscle, we're really speaking to strength training to be used to increase the force production of muscle. 00:02:40The endurance of muscle is the ability to perform low-intensity, repetitive or sustained activities over a prolonged period of time. 00:02:47And we use indirect endurance training to increase tolerance to repetitive loads from many repetitions over a long period of time. 00:02:55\", metadata={'source': '../../Library/CloudStorage/Box-Box/DISC_AI Project/Transripts Pilot/6.1 Principles of Resistance Exercise.pdf', 'page': 1}),\n",
       " Document(page_content=\"6.1 Principles of Resistance Exercise00:00:00[MUSIC] 00:00:08Hello, and welcome to our lecture on the principles of resistance exercise. 00:00:14Here is our course statement. 00:00:15By the end of this lecture, I am hoping that you'll be able to define resistance training, define the following terms associated with resistance training, and they include resistance training, muscle strength, power, and endurance. 00:00:31And finally, describe the principles of overload, SAID, and reversibility. 00:00:35Here's our patient case that'll be used for this lecture. 00:00:39On general physical examination, J.D a 14-year-old has an obese appearance and presents with difficulty in standing, walking, getting up from sitting positions, and climbing stairs. 00:00:51He also presents with proximal weakness, calf hypertrophy, hamstring muscle contracture, and a positive Gower's sign. 00:00:59So you've determined that this patient is appropriate for resistance training. 00:01:03So what do you do? 00:01:05Well, first, let's understand what resistance training actually is. 00:01:09[BLANK_AUDIO] 00:01:12Resistance training is a form of active exercise in which dynamic or static muscle contractions resist an outside force applied manually or\", metadata={'source': '../../Library/CloudStorage/Box-Box/DISC_AI Project/Transripts Pilot/6.1 Principles of Resistance Exercise.pdf', 'page': 0}),\n",
       " Document(page_content=\"6.4 Framework for Resistance Training00:00:00Hello and welcome to our lecture on a framework for resistance exercise. 00:00:08Here's our course statement. 00:00:11But in this lecture, I'm hoping that you'll be able to describe the principles of progressive overload set and general adaptation syndrome. 00:00:19Discuss basic concepts and context of exercise dosing and physical rehabilitation. 00:00:24As well as explain baseline foundational theoretical strategies to create and or modify prescribed exercise plan. 00:00:30[BLANK_AUDIO] 00:00:34Now the clinical case for this lecture, we will be using other lectures included in this series of lectures. 00:00:41I'm going to read this once, and I will not read it again, but here it is. 00:00:46J.K is a 63-year-old male that comes to your clinic with reports of chronic back pain. 00:00:50He states that his physician has asked him to exercise at the gym. 00:00:54He has been given general guidelines from his physician, but isn't sure how to manage his back pain while also preventing further injuries. 00:01:02So what questions would you want to ask the patient regarding exercise? 00:01:07\", metadata={'source': '../../Library/CloudStorage/Box-Box/DISC_AI Project/Transripts Pilot/6.4 Framework for Resistance Training.pdf', 'page': 0}),\n",
       " Document(page_content=\"6.9 Precautions and Contraindications for Resistance Exercise00:00:01Welcome to our lecture on the precautions and contraindications for resistance exercise. 00:00:07Here's our course statement. 00:00:10But in this lecture, I'm hoping to be able to list, and remember, the precautions and contraindications to resistance exercise. 00:00:19[BLANK_AUDIO] 00:00:21So theory in practice. 00:00:23A lot goes into exercise dosing, as I'm sure you can appreciate now as we've gone through this lecture series on exercise prescription for resistance training. 00:00:34There is one component of exercise that we're always taking into consideration, and that is the safety of the patient. 00:00:43How do we use patient specific information and evidence in the literature and critical thinking in order to best serve our patients? 00:00:53The culmination of application of the general adaptation syndrome, the said principle, met principles, specificity of function, the rate of perceived exertion and other biometrics we measure. 00:01:07As well as a fully functional testing algorithms, all manifest in our ability to provide safe exercise dosing, while still meeting our functional goals for the patient. 00:01:19[BLANK_AUDIO] 00:01:22As part of your effective exercise program, it can include interventional methods, including range of motion, which helps minimize physiological changes in bone and tissue and prepare a body for movement.\", metadata={'source': '../../Library/CloudStorage/Box-Box/DISC_AI Project/Transripts Pilot/6.9 Precautions and Contraindications for Resistance Exercise.pdf', 'page': 0})]"
      ]
     },
     "execution_count": 17,
     "metadata": {},
     "output_type": "execute_result"
    }
   ],
   "source": [
    "db.similarity_search('What is resistance training?')"
   ]
  },
  {
   "cell_type": "code",
   "execution_count": 18,
   "metadata": {},
   "outputs": [],
   "source": [
    "db.save_local(\"pt_example_db\")"
   ]
  },
  {
   "cell_type": "code",
   "execution_count": 19,
   "metadata": {},
   "outputs": [],
   "source": [
    "new_db = FAISS.load_local(\"pt_example_db\", model_norm)"
   ]
  },
  {
   "cell_type": "code",
   "execution_count": 20,
   "metadata": {},
   "outputs": [
    {
     "data": {
      "text/plain": [
       "[Document(page_content=\"mechanically. 00:01:24[BLANK_AUDIO] 00:01:29Now, since we have established what the definition is, I would like to say before we do anything else that resists training within the literature is heavily, heavily covered. 00:01:40As a matter of fact, it is so ubiquitous that it's hardly worth mentioning the fact that, yes, there is literature supporting resistance training. 00:01:50As a matter of fact, when I did a very quick search term for resistance training and rehabilitation, I had almost 44,000 hits. 00:01:59So again, when we go through the material associated with resistance training, it's assuming that we all understand that resistance training does have therapeutic benefits. 00:02:12[BLANK_AUDIO] 00:02:14Okay, so let's talk about some of the elements of muscle performance, and they are strength, endurance, and power. 00:02:20The strength of a muscle is the ability of contractile tissue to produce tension and resultant force based on the demands placed on the muscle. 00:02:30So when we say strength training for muscle, we're really speaking to strength training to be used to increase the force production of muscle. 00:02:40The endurance of muscle is the ability to perform low-intensity, repetitive or sustained activities over a prolonged period of time. 00:02:47And we use indirect endurance training to increase tolerance to repetitive loads from many repetitions over a long period of time. 00:02:55\", metadata={'source': '../../Library/CloudStorage/Box-Box/DISC_AI Project/Transripts Pilot/6.1 Principles of Resistance Exercise.pdf', 'page': 1}),\n",
       " Document(page_content=\"6.1 Principles of Resistance Exercise00:00:00[MUSIC] 00:00:08Hello, and welcome to our lecture on the principles of resistance exercise. 00:00:14Here is our course statement. 00:00:15By the end of this lecture, I am hoping that you'll be able to define resistance training, define the following terms associated with resistance training, and they include resistance training, muscle strength, power, and endurance. 00:00:31And finally, describe the principles of overload, SAID, and reversibility. 00:00:35Here's our patient case that'll be used for this lecture. 00:00:39On general physical examination, J.D a 14-year-old has an obese appearance and presents with difficulty in standing, walking, getting up from sitting positions, and climbing stairs. 00:00:51He also presents with proximal weakness, calf hypertrophy, hamstring muscle contracture, and a positive Gower's sign. 00:00:59So you've determined that this patient is appropriate for resistance training. 00:01:03So what do you do? 00:01:05Well, first, let's understand what resistance training actually is. 00:01:09[BLANK_AUDIO] 00:01:12Resistance training is a form of active exercise in which dynamic or static muscle contractions resist an outside force applied manually or\", metadata={'source': '../../Library/CloudStorage/Box-Box/DISC_AI Project/Transripts Pilot/6.1 Principles of Resistance Exercise.pdf', 'page': 0}),\n",
       " Document(page_content=\"6.4 Framework for Resistance Training00:00:00Hello and welcome to our lecture on a framework for resistance exercise. 00:00:08Here's our course statement. 00:00:11But in this lecture, I'm hoping that you'll be able to describe the principles of progressive overload set and general adaptation syndrome. 00:00:19Discuss basic concepts and context of exercise dosing and physical rehabilitation. 00:00:24As well as explain baseline foundational theoretical strategies to create and or modify prescribed exercise plan. 00:00:30[BLANK_AUDIO] 00:00:34Now the clinical case for this lecture, we will be using other lectures included in this series of lectures. 00:00:41I'm going to read this once, and I will not read it again, but here it is. 00:00:46J.K is a 63-year-old male that comes to your clinic with reports of chronic back pain. 00:00:50He states that his physician has asked him to exercise at the gym. 00:00:54He has been given general guidelines from his physician, but isn't sure how to manage his back pain while also preventing further injuries. 00:01:02So what questions would you want to ask the patient regarding exercise? 00:01:07\", metadata={'source': '../../Library/CloudStorage/Box-Box/DISC_AI Project/Transripts Pilot/6.4 Framework for Resistance Training.pdf', 'page': 0}),\n",
       " Document(page_content=\"6.9 Precautions and Contraindications for Resistance Exercise00:00:01Welcome to our lecture on the precautions and contraindications for resistance exercise. 00:00:07Here's our course statement. 00:00:10But in this lecture, I'm hoping to be able to list, and remember, the precautions and contraindications to resistance exercise. 00:00:19[BLANK_AUDIO] 00:00:21So theory in practice. 00:00:23A lot goes into exercise dosing, as I'm sure you can appreciate now as we've gone through this lecture series on exercise prescription for resistance training. 00:00:34There is one component of exercise that we're always taking into consideration, and that is the safety of the patient. 00:00:43How do we use patient specific information and evidence in the literature and critical thinking in order to best serve our patients? 00:00:53The culmination of application of the general adaptation syndrome, the said principle, met principles, specificity of function, the rate of perceived exertion and other biometrics we measure. 00:01:07As well as a fully functional testing algorithms, all manifest in our ability to provide safe exercise dosing, while still meeting our functional goals for the patient. 00:01:19[BLANK_AUDIO] 00:01:22As part of your effective exercise program, it can include interventional methods, including range of motion, which helps minimize physiological changes in bone and tissue and prepare a body for movement.\", metadata={'source': '../../Library/CloudStorage/Box-Box/DISC_AI Project/Transripts Pilot/6.9 Precautions and Contraindications for Resistance Exercise.pdf', 'page': 0})]"
      ]
     },
     "execution_count": 20,
     "metadata": {},
     "output_type": "execute_result"
    }
   ],
   "source": [
    "new_db.similarity_search('What is resistance training?')"
   ]
  },
  {
   "cell_type": "code",
   "execution_count": 21,
   "metadata": {},
   "outputs": [
    {
     "data": {
      "text/plain": [
       "True"
      ]
     },
     "execution_count": 21,
     "metadata": {},
     "output_type": "execute_result"
    }
   ],
   "source": [
    "old = db.similarity_search('What is resistance training?')\n",
    "new = new_db.similarity_search('What is resistance training?')\n",
    "old == new # yay!"
   ]
  },
  {
   "cell_type": "code",
   "execution_count": 24,
   "metadata": {},
   "outputs": [
    {
     "data": {
      "text/plain": [
       "True"
      ]
     },
     "execution_count": 24,
     "metadata": {},
     "output_type": "execute_result"
    }
   ],
   "source": [
    "base_path = '../../Library/CloudStorage/Box-Box/DISC_AI Project/Transcripts Primary Care/Week 1 Primary Care.pdf'\n",
    "os.path.exists(base_path)"
   ]
  },
  {
   "cell_type": "code",
   "execution_count": 25,
   "metadata": {},
   "outputs": [],
   "source": [
    "import pypdf\n",
    "\n",
    "read_pdf = pypdf.PdfReader(base_path)"
   ]
  },
  {
   "cell_type": "code",
   "execution_count": 51,
   "metadata": {},
   "outputs": [
    {
     "data": {
      "text/plain": [
       "True"
      ]
     },
     "execution_count": 51,
     "metadata": {},
     "output_type": "execute_result"
    }
   ],
   "source": [
    "read_pdf.pages[0].extract_text().startswith('1.')"
   ]
  },
  {
   "cell_type": "code",
   "execution_count": 55,
   "metadata": {},
   "outputs": [],
   "source": [
    "import collections\n",
    "text_dict = collections.defaultdict(str)\n",
    "pages = read_pdf.pages\n",
    "for page in pages:\n",
    "    page_text = page.extract_text()\n",
    "    if page_text.startswith('1.'):\n",
    "        curr = page_text[:3]\n",
    "        text_dict[curr] += page_text\n",
    "    else:\n",
    "        text_dict[curr] += page_text"
   ]
  },
  {
   "cell_type": "code",
   "execution_count": 57,
   "metadata": {},
   "outputs": [
    {
     "data": {
      "text/plain": [
       "\"1.2  The Low Back and Lower Extremities; Regional Pain Patterns and Associated Disorders00:00:01Lecture 1.2, regional pain patterns and associated diseases and disorders, low back and lower extremities. 00:00:09[BLANK_AUDIO] 00:00:12So the objectives here are to identify 4 forms you might give to a patient with low back pain to provide additional information about that patient's condition. 00:00:23Describe at least two non-musculoskeletal causes of low back pain and under what circumstances you might reevaluate a musculoskeletal cause of labaquine. 00:00:34Describe symptoms which might lead you to include cauda equina in your list of differential diagnoses. 00:00:42Identify five potentially serious conditions which may mimic less serious musculoskeletal conditions in the pelvis, hip, and thigh. 00:00:52And finally, identify five potentially serious conditions which may mimic less serious musculoskeletal conditions in the knee, lower leg, ankle, and foot. 00:01:03[BLANK_AUDIO] 00:01:06Low back pain questionnaires and forms. 00:01:09So some of these forms include the modified oswestry low back pain disability questionnaire. 00:01:15Usually you'll see that abbreviated and this is an outcome measure. 00:01:18Another one is the Fear Avoidance Belief Questionnaire. 00:01:21Again, this is usually abbreviated FABQ. 00:01:26Common Medical History Intake Forms, and then finally a Red Flag Screening Form could be included, and we'll learn more about these as the class progresses. 00:01:36So a patient with low back pain presenting to your clinic may be given multiple forms to fill out to try and obtain as much useful information about the case as possible. 00:01:48Low back pain, cause of pain. 00:01:51If a patient is over 55 and is failing to improve, it may be appropriate to consider non musculoskeletal causes of the low back pain. 00:02:00Or, it may be appropriate to inquire about an infection as the cause of the patient's low back pain. 00:02:07If the patient notes that their comfort does not change in any position, the likelihood that the pain is not musculoskeletal in origin increases. 00:02:17So asking the patient about a history of trauma, osteoporosis, or other disorder that may decrease bone density may help you rule out spinal fracture as a cause of the patient's pain. 00:02:30So a physical therapist asks the 55 year old patient the following questions to increase or decrease, there's suspicion that this patient's low back pain is caused by cancer. 00:02:42Do you have a history of cancer? 00:02:44If so, what type of cancer? 00:02:47Have you recently lost weight, even though you have not been attempting to eat less or exercise more? 00:02:52If you have, how much weight have you lost? 00:02:55When asking about infection, questions such as, have you recently had a fever? 00:03:00Or have you recently taken antibiotics for an infection or have you been diagnosed with an immunosuppressive disorder can all provide you with useful information. 00:03:09[BLANK_AUDIO] 00:03:14Cauda equina, to rule out cauda equina, asking about changes in bowel or bladder habits as well as saddle paresthesia and lower extremity weakness can be useful. 00:03:26A positive response to any of these questions increases the suspicion that the patient has cauda equina syndrome. 00:03:33You can follow these inquiries with a physical examination assessing sensory integrity of the perianal and perineal areas, as well as the L4, 5, and S1 dermatomes. 00:03:45You can also assess motor integrity of L4, the quadriceps and tibialis anterior or L5 and S1 musculature. 00:03:54[BLANK_AUDIO] 00:03:59Pelvis, hip and thigh. 00:04:02Colon cancer, femoral neck fracture, osteonecrosis, Legg-Calve-Perthes, and slipped capital femoral epiphysis can all mimic common musculoskeletal disorders of the pelvis, hip and thigh. 00:04:17In older populations, proximal femur fractures become increasingly likely. 00:04:22Patient demographics, age, sex, etc, and a detailed health history are important. 00:04:28Medications affecting bone density are also important screening components. 00:04:33Leg calf perthes is most common in 5-8 year old boys and they often report groin, thigh and knee pain that worsens with weight bearing activities. 00:04:43Slip capital femoral epiphysis occurs in adolescents and 2-1 in boys vs girls. 00:04:51Symptoms include groin, thigh or knee pain and limited hip internal rotation range of motion. 00:04:58Pathologic fractures of the femoral neck occur secondary to disease and often in the absence of major trauma. 00:05:05These fractures are most common in individuals over 50 years, women more often than men, and patients who have a history of metabolic bone disease, such as osteoporosis or Paget's disease. 00:05:18A history of a fall from a standing position is often reported, along with a feeling of a sudden painful snap in the hip region and giving way. 00:05:26Acute groin pain is usually reported. 00:05:30In Legg-Calve-Perthes disease, this condition results from an idiopathic loss of blood supply From the lateral ascending cervical artery to the femoral head. 00:05:40Patients with osteonecrosis and Legg-Calve-Perthes disease often report pain in the groin, thigh, and knee that worsens with weight-bearing activities resulting in an antalgic gait. 00:05:52Common clinical findings in children with Legg-Calve-Perthes disease also include shortening of the involved leg. 00:05:59Unlimited internal rotation and abduction of the involved hip. 00:06:02[BLANK_AUDIO] 00:06:06Knee, lower leg, ankle and foot and deep vein thrombosis. 00:06:13Compartment syndrome deep vein thrombosis, peripheral arterial occlusive disease, septic arthritis, and cellulitis, are all serious conditions to consider in this region, in this region being the knee, lower leg ankle and foot. 00:06:30Peripheral vascular disease often includes aching and buttock thigh and calf that increases with activity and improves with rest. 00:06:39A DVT may manifest as calf pain that increases with activity, but half of DVT patients do not experience calf pain. 00:06:48Risk factors for DVT include recent surgery, malignancy, trauma, prolonged immobilization and pregnancy. 00:06:57Peripheral vascular disease. 00:06:59Usually can be sussed out by looking at pedal pulses and whether they're decreased and also looking for wounds and sores on the toes or feet of patients. 00:07:08[BLANK_AUDIO] 00:07:12Continuing with knee, lower leg, ankle, and foot, compartment syndrome. 00:07:16Compartment syndrome is a result of swelling inside a connective tissue compartment. 00:07:21Usually it's a result of trauma or a rapid increase in physical activity. 00:07:26Symptoms of compartment syndrome include pain when a stretch is applied to the involved muscle. 00:07:32Keep in mind the six Ps of compartment syndrome, pain, palpable tenderness, paraesthesia, paresis, pallor, and pulselessness. 00:07:42So, with compartment syndrome the physical examination typically reveals swelling, tenderness and palpable tension of the involved compartment. 00:07:52The nerve entrapment or compression found in this condition results in paresthesias, and potentially in paralysis. 00:07:59The vascular compromise accompanying this condition results in diminished peripheral pulses and, potentially, a change in skin color. 00:08:07[BLANK_AUDIO] 00:08:14Finally, septic arthritis and cellulitis continuing in the knee, lower leg, ankle, and foot. 00:08:19Septic arthritis is an inflammation in a joint caused by a bacterial infection. 00:08:24Cellulitis is an infection in the skin after a wound becomes contaminated by bacteria. 00:08:30Patients who have septic arthritis complain of a constant aching or throbbing pain and a swelling in a joint. 00:08:37The involved joint is usually tender and warm when palpated. 00:08:40And depending on which joint is involved, erythema may be present. 00:08:44Patients who develop septic arthritis often are immunosuppressed or have pre-existing systemic joint disease. 00:08:54An infection in the tissues, cellulitis, exhibits the classic signs of pain, skin swelling, warmth. 00:09:01And advancing irregular margin of erythema or reddish streaks, suspicion of either septic arthritis or cellulitis would warrant an immediate referral of the patient to a physician. 00:09:15[BLANK_AUDIO] cielo24 | what’s in your video? | cielo24.com\""
      ]
     },
     "execution_count": 57,
     "metadata": {},
     "output_type": "execute_result"
    }
   ],
   "source": [
    "text_dict['1.2']"
   ]
  },
  {
   "cell_type": "code",
   "execution_count": 78,
   "metadata": {},
   "outputs": [],
   "source": [
    "os.makedirs('./data/week_1')"
   ]
  },
  {
   "cell_type": "code",
   "execution_count": 79,
   "metadata": {},
   "outputs": [],
   "source": [
    "from langchain.text_splitter import TokenTextSplitter\n",
    "text_splitter = TokenTextSplitter(chunk_size=200, chunk_overlap=25)\n",
    "\n",
    "for k,v in text_dict.items():\n",
    "    text_chunks = text_splitter.split_text(v)\n",
    "    for i, tc in enumerate(text_chunks):\n",
    "        with open(f'./data/week_1/week_1_{k}_{i}.txt', 'w') as f:\n",
    "            f.write(tc)"
   ]
  },
  {
   "cell_type": "code",
   "execution_count": 80,
   "metadata": {},
   "outputs": [],
   "source": [
    "from langchain.document_loaders import DirectoryLoader\n",
    "\n",
    "loader = DirectoryLoader('./data/week_1', glob=\"*.txt\")\n",
    "docs = loader.load()"
   ]
  },
  {
   "cell_type": "code",
   "execution_count": 81,
   "metadata": {},
   "outputs": [],
   "source": [
    "db = FAISS.from_documents(docs, model_norm)"
   ]
  },
  {
   "cell_type": "code",
   "execution_count": 82,
   "metadata": {},
   "outputs": [
    {
     "data": {
      "text/plain": [
       "[Document(page_content=\"1.1 Symptom InvestigationEffects00:00:00[MUSIC] 00:00:08[BLANK_AUDIO] 00:00:10Hi and welcome to lecture 1.1 symptom investigation. 00:00:17[BLANK_AUDIO] 00:00:24The objectives here for lecture 1.1 are to, let's see here, 00:00:32[BLANK_AUDIO] 00:00:35Summarize why a body diagram may provide useful information, describe the use of open and closed-ended questions as a component of symptom investigation. 00:00:47Describe how knowledge of potential pain location patterns associated with viscera, can be beneficial and how it can also be confounding. 00:00:56And finally, identify three questions you might ask a patient regarding the onset of their symptoms and describe the appropriate time frame over which to assess changes in their symptoms. 00:01:09[BL\", metadata={'source': 'data/week_1/week_1_1.1_0.txt'}),\n",
       " Document(page_content=\"or burning. 00:04:18And visceral disorders could present with symptoms such as aching, squeezing, gnawing, burning or cramping. 00:04:26The symptom descriptions alone don't really contain enough information to diagnose or base any kind of referral. 00:04:32Knowledge of potential pain location patterns associated with viscera can guide the PT and selecting the organ systems to screen further with questions related to a review of symptoms. 00:04:44Symptom onset, so information about when the symptoms began should be obtained. 00:04:51And is this the episode that started everything? 00:04:55Is there a multi year history? 00:04:57Can the patient point to a specific inciting event? 00:05:00So many patients cannot relate the onset of their symptoms to any particular incident or accident. 00:05:07However, if you question them carefully, you can often uncover a likely cause, such as\", metadata={'source': 'data/week_1/week_1_1.1_5.txt'}),\n",
       " Document(page_content=\"1.3  The Thoracic and Trunk Regions; Regional Pain Patterns and Associated Disorders00:00:02Hi there, so continuing with Lecture 1.3 on regional pain patterns and associated disorders, we'll now be focusing on the thoracic and trunk region. 00:00:14So the objectives for this lecture include identify four general non-musculoskeletal conditions. 00:00:22Changing the color here, which may produce thoracic trunk pain. 00:00:26Define angina, describe at least three risk factors and describe the difference between stable and unstable angina. 00:00:34Provide a general definition of each of the following, pericarditis, pulmonary embolus, pleurisy, and cholecystitis. 00:00:43Identify symptoms of non-duodenal ulcers which may be associated with malignancy. 00:00:49Describe symptoms which may\", metadata={'source': 'data/week_1/week_1_1.3_0.txt'}),\n",
       " Document(page_content=\"one joint or body region below the patient's area of chief complaint. 00:02:46So the patient with low back pain states my back hurts. 00:02:49A follow-up question may be have you experienced any numbness or tingling in either leg. 00:02:54Any progressive loss of strength? 00:02:56Any increasing frequency of tripping, or have you experienced a fall recently? 00:03:02Asking the patient about any other complaints like nausea, fever, abdominal pain, upper back, or shoulder pain could be useful for suggesting follow-up questions or screening to rule out serious pathology. 00:03:14[BLANK_AUDIO] 00:03:17Overlapping pain patterns, and one of the important things that you'll see frequently here in these presentations is to see a specific table and this one is table 5.1 in your book. 00:03:30Your book also includes a number of\", metadata={'source': 'data/week_1/week_1_1.1_3.txt'})]"
      ]
     },
     "execution_count": 82,
     "metadata": {},
     "output_type": "execute_result"
    }
   ],
   "source": [
    "db.similarity_search(\"What is the goal of symptom investigation?\")"
   ]
  },
  {
   "cell_type": "code",
   "execution_count": 83,
   "metadata": {},
   "outputs": [],
   "source": [
    "db.save_local(\"./dbs/week_1_db\")"
   ]
  },
  {
   "cell_type": "code",
   "execution_count": null,
   "metadata": {},
   "outputs": [],
   "source": []
  }
 ],
 "metadata": {
  "kernelspec": {
   "display_name": "Python 3.10.11 ('st_chat')",
   "language": "python",
   "name": "python3"
  },
  "language_info": {
   "codemirror_mode": {
    "name": "ipython",
    "version": 3
   },
   "file_extension": ".py",
   "mimetype": "text/x-python",
   "name": "python",
   "nbconvert_exporter": "python",
   "pygments_lexer": "ipython3",
   "version": "3.10.11"
  },
  "orig_nbformat": 4,
  "vscode": {
   "interpreter": {
    "hash": "1bc5cd048ffa0832d75a2d6a19b401eaacc75d0dc4a1ac165f9880baecfe3f3a"
   }
  }
 },
 "nbformat": 4,
 "nbformat_minor": 2
}
